{
  "nbformat": 4,
  "nbformat_minor": 0,
  "metadata": {
    "colab": {
      "provenance": [],
      "include_colab_link": true
    },
    "kernelspec": {
      "name": "python3",
      "display_name": "Python 3"
    },
    "language_info": {
      "name": "python"
    }
  },
  "cells": [
    {
      "cell_type": "markdown",
      "metadata": {
        "id": "view-in-github",
        "colab_type": "text"
      },
      "source": [
        "<a href=\"https://colab.research.google.com/github/bhushanmandava/Gradient-Boosting-Alogrithms-Regression-/blob/main/lightgbm_regressor.ipynb\" target=\"_parent\"><img src=\"https://colab.research.google.com/assets/colab-badge.svg\" alt=\"Open In Colab\"/></a>"
      ]
    },
    {
      "cell_type": "markdown",
      "source": [
        "# LightGBM Regressor"
      ],
      "metadata": {
        "id": "zgsD0HS0kPlK"
      }
    },
    {
      "cell_type": "markdown",
      "source": [
        "## Part 1 - Data Preprocessing"
      ],
      "metadata": {
        "id": "lNxL8wt5kTpT"
      }
    },
    {
      "cell_type": "markdown",
      "source": [
        "### Importing the dataset"
      ],
      "metadata": {
        "id": "3yF_J0xQkvgc"
      }
    },
    {
      "cell_type": "code",
      "source": [
        "import pandas as pd\n",
        "dataset = pd.read_csv('insurance.csv')"
      ],
      "metadata": {
        "id": "QpPqYo2nklno"
      },
      "execution_count": null,
      "outputs": []
    },
    {
      "cell_type": "code",
      "source": [
        "dataset.head()"
      ],
      "metadata": {
        "id": "sEJnZJ4qRtNk"
      },
      "execution_count": null,
      "outputs": []
    },
    {
      "cell_type": "markdown",
      "source": [
        "### Checking missing data"
      ],
      "metadata": {
        "id": "zbyNBfOVm-hh"
      }
    },
    {
      "cell_type": "code",
      "source": [
        "dataset.info()"
      ],
      "metadata": {
        "id": "Q3THN08LnLNi"
      },
      "execution_count": null,
      "outputs": []
    },
    {
      "cell_type": "markdown",
      "source": [
        "### Handling categorical variables"
      ],
      "metadata": {
        "id": "qvmL_-E2nMtu"
      }
    },
    {
      "cell_type": "markdown",
      "source": [
        "Sex column"
      ],
      "metadata": {
        "id": "7hjGjntJoSdI"
      }
    },
    {
      "cell_type": "code",
      "source": [
        "dataset['sex'].unique()"
      ],
      "metadata": {
        "id": "sKLhOuAVnUj7"
      },
      "execution_count": null,
      "outputs": []
    },
    {
      "cell_type": "code",
      "source": [
        "dataset['sex'] = dataset['sex'].apply(lambda x: 0 if x == 'female' else 1)"
      ],
      "metadata": {
        "id": "bmMvBMcRn8DD"
      },
      "execution_count": null,
      "outputs": []
    },
    {
      "cell_type": "code",
      "source": [
        "dataset.head()"
      ],
      "metadata": {
        "id": "7HDUq7vwn_PU"
      },
      "execution_count": null,
      "outputs": []
    },
    {
      "cell_type": "markdown",
      "source": [
        "Smoker column"
      ],
      "metadata": {
        "id": "_9sbt8cbod8_"
      }
    },
    {
      "cell_type": "code",
      "source": [
        "dataset['smoker'].unique()"
      ],
      "metadata": {
        "id": "LV1MqOgSomJU"
      },
      "execution_count": null,
      "outputs": []
    },
    {
      "cell_type": "code",
      "source": [
        "dataset['smoker'] = dataset['smoker'].apply(lambda x: 0 if x == 'no' else 1)"
      ],
      "metadata": {
        "id": "TfCO73mNpAlY"
      },
      "execution_count": null,
      "outputs": []
    },
    {
      "cell_type": "code",
      "source": [
        "dataset.head()"
      ],
      "metadata": {
        "id": "BopFUJw4pE1W"
      },
      "execution_count": null,
      "outputs": []
    },
    {
      "cell_type": "markdown",
      "source": [
        "Region column"
      ],
      "metadata": {
        "id": "onsS1HahpP8v"
      }
    },
    {
      "cell_type": "code",
      "source": [
        "dataset['region'].unique()"
      ],
      "metadata": {
        "id": "a2FrNKd2pVZA"
      },
      "execution_count": null,
      "outputs": []
    },
    {
      "cell_type": "code",
      "source": [
        "region_dummies = pd.get_dummies(dataset['region'], drop_first = True)"
      ],
      "metadata": {
        "id": "cZZ6pKZ5pZPn"
      },
      "execution_count": null,
      "outputs": []
    },
    {
      "cell_type": "code",
      "source": [
        "region_dummies"
      ],
      "metadata": {
        "id": "RQiQrwIopcah"
      },
      "execution_count": null,
      "outputs": []
    },
    {
      "cell_type": "code",
      "source": [
        "dataset = pd.concat([region_dummies, dataset], axis = 1)"
      ],
      "metadata": {
        "id": "4KVlO7rBpiD0"
      },
      "execution_count": null,
      "outputs": []
    },
    {
      "cell_type": "code",
      "source": [
        "dataset.head()"
      ],
      "metadata": {
        "id": "FYVYk4Bnpiqk"
      },
      "execution_count": null,
      "outputs": []
    },
    {
      "cell_type": "code",
      "source": [
        "dataset.drop(['region'], axis = 1, inplace = True)"
      ],
      "metadata": {
        "id": "fqhLmrK7ppeH"
      },
      "execution_count": null,
      "outputs": []
    },
    {
      "cell_type": "code",
      "source": [
        "dataset.head()"
      ],
      "metadata": {
        "id": "zIiKD8w6prVq"
      },
      "execution_count": null,
      "outputs": []
    },
    {
      "cell_type": "markdown",
      "source": [
        "### Creating the Training Set and the Test Set"
      ],
      "metadata": {
        "id": "jKMIBH8oqdIo"
      }
    },
    {
      "cell_type": "markdown",
      "source": [
        "Getting the inputs and output"
      ],
      "metadata": {
        "id": "hBQmz8xDrb-q"
      }
    },
    {
      "cell_type": "code",
      "source": [
        "X = dataset.iloc[:, :-1].values"
      ],
      "metadata": {
        "id": "9KbcBlhfgllO"
      },
      "execution_count": null,
      "outputs": []
    },
    {
      "cell_type": "code",
      "source": [
        "y = dataset.iloc[:, -1].values"
      ],
      "metadata": {
        "id": "z6gUw3BQgroD"
      },
      "execution_count": null,
      "outputs": []
    },
    {
      "cell_type": "code",
      "source": [
        "X"
      ],
      "metadata": {
        "id": "nD9GhuMgmICq"
      },
      "execution_count": null,
      "outputs": []
    },
    {
      "cell_type": "code",
      "source": [
        "y"
      ],
      "metadata": {
        "id": "DxuJCpc8gtje"
      },
      "execution_count": null,
      "outputs": []
    },
    {
      "cell_type": "markdown",
      "source": [
        "Getting the Training Set and the Test Set"
      ],
      "metadata": {
        "id": "C6K73iHvsx5l"
      }
    },
    {
      "cell_type": "code",
      "source": [
        "from sklearn.model_selection import train_test_split\n",
        "X_train, X_test, y_train, y_test = train_test_split(X, y, test_size = 0.2, random_state = 0)"
      ],
      "metadata": {
        "id": "OM1lS8eus4N3"
      },
      "execution_count": null,
      "outputs": []
    },
    {
      "cell_type": "markdown",
      "source": [
        "## Part 2 - Building and training the model"
      ],
      "metadata": {
        "id": "YKk9JRKItkX8"
      }
    },
    {
      "cell_type": "markdown",
      "source": [
        "### Building the model"
      ],
      "metadata": {
        "id": "RJX00x3yMj2u"
      }
    },
    {
      "cell_type": "code",
      "source": [
        "import lightgbm as lgb\n",
        "model = lgb.LGBMRegressor()"
      ],
      "metadata": {
        "id": "-0XI-tquNYfQ"
      },
      "execution_count": null,
      "outputs": []
    },
    {
      "cell_type": "markdown",
      "source": [
        "### Training the model"
      ],
      "metadata": {
        "id": "W_CJyzmxNufc"
      }
    },
    {
      "cell_type": "code",
      "source": [
        "model.fit(X_train, y_train)"
      ],
      "metadata": {
        "id": "ZuU8eDylNyO1"
      },
      "execution_count": null,
      "outputs": []
    },
    {
      "cell_type": "markdown",
      "source": [
        "### Inference"
      ],
      "metadata": {
        "id": "dvKx0REDudHS"
      }
    },
    {
      "cell_type": "code",
      "source": [
        "y_pred = model.predict(X_test)"
      ],
      "metadata": {
        "id": "up0uN9dyNl-v"
      },
      "execution_count": null,
      "outputs": []
    },
    {
      "cell_type": "markdown",
      "source": [
        "## Part 3: Evaluating the model"
      ],
      "metadata": {
        "id": "5OCs3sUIOXNQ"
      }
    },
    {
      "cell_type": "markdown",
      "source": [
        "### R-Squared"
      ],
      "metadata": {
        "id": "VmQ20k-zPFrQ"
      }
    },
    {
      "cell_type": "code",
      "source": [
        "from sklearn.metrics import r2_score\n",
        "r2 = r2_score(y_test, y_pred)"
      ],
      "metadata": {
        "id": "AOjvneGsOeVm"
      },
      "execution_count": null,
      "outputs": []
    },
    {
      "cell_type": "code",
      "source": [
        "r2"
      ],
      "metadata": {
        "id": "D75ysIcZQeRs"
      },
      "execution_count": null,
      "outputs": []
    },
    {
      "cell_type": "markdown",
      "source": [
        "### Adjusted R-Squared"
      ],
      "metadata": {
        "id": "Ggg1NSFoPKbA"
      }
    },
    {
      "cell_type": "code",
      "source": [
        "k = X_test.shape[1]\n",
        "n = len(X_test)\n",
        "adj_r2 = 1-(1-r2)*(n-1)/(n-k-1)"
      ],
      "metadata": {
        "id": "z7UuNDk1PNok"
      },
      "execution_count": null,
      "outputs": []
    },
    {
      "cell_type": "code",
      "source": [
        "adj_r2"
      ],
      "metadata": {
        "id": "Hz4HiGI3QfsF"
      },
      "execution_count": null,
      "outputs": []
    },
    {
      "cell_type": "markdown",
      "source": [
        "### k-Fold Cross Validation"
      ],
      "metadata": {
        "id": "llBkQ5wfhz5D"
      }
    },
    {
      "cell_type": "code",
      "source": [
        "from sklearn.model_selection import cross_val_score\n",
        "r2s = cross_val_score(estimator = model,\n",
        "                      X = X,\n",
        "                      y = y,\n",
        "                      scoring = 'r2',\n",
        "                      cv = 10)\n",
        "print(\"R-Squared: {:.2f} %\".format(r2s.mean()*100))\n",
        "print(\"Standard Deviation: {:.2f} %\".format(r2s.std()*100))"
      ],
      "metadata": {
        "id": "FDdFnNLhh51R"
      },
      "execution_count": null,
      "outputs": []
    },
    {
      "cell_type": "markdown",
      "source": [
        "### Grid Search"
      ],
      "metadata": {
        "id": "eLy_GPB8sL1Y"
      }
    },
    {
      "cell_type": "code",
      "source": [
        "from sklearn.model_selection import GridSearchCV\n",
        "parameters = [{'num_leaves': [29,30,31,32,33], 'learning_rate': [0.08,0.09,0.1,0.11,0.12], 'n_estimators': [80,90,100,110,120]}]\n",
        "grid_search = GridSearchCV(estimator = model,\n",
        "                           param_grid = parameters,\n",
        "                           scoring = 'r2',\n",
        "                           cv = 10)\n",
        "grid_search.fit(X, y)\n",
        "best_r2 = grid_search.best_score_\n",
        "best_parameters = grid_search.best_params_\n",
        "print(\"Best R-Squared: {:.2f} %\".format(best_r2*100))\n",
        "print(\"Best Parameters:\", best_parameters)"
      ],
      "metadata": {
        "id": "K2oPMxni3IJr"
      },
      "execution_count": null,
      "outputs": []
    }
  ]
}